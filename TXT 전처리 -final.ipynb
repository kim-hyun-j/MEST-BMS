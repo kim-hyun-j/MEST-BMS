{
 "cells": [
  {
   "cell_type": "code",
   "execution_count": 2,
   "id": "09f423f7",
   "metadata": {},
   "outputs": [],
   "source": [
    "import os "
   ]
  },
  {
   "cell_type": "code",
   "execution_count": 4,
   "id": "803cf1bb",
   "metadata": {},
   "outputs": [],
   "source": [
    "path='C:/Users/pc/Desktop/산학과제/진 raw/RPT0/'\n",
    "list=os.listdir(path)\n",
    "for i in list:\n",
    "    file_list = os.listdir(path+i)\n",
    "    file_list_py = [file for file in file_list if file.endswith('.txt')]\n",
    "    for x in file_list_py:\n",
    "        with open(path+i+'/'+x, 'r') as fin:\n",
    "            data = fin.read().splitlines(True)\n",
    "        with open(path+i+'/'+x, 'w') as fout:\n",
    "            fout.writelines(data[10:])"
   ]
  },
  {
   "cell_type": "code",
   "execution_count": null,
   "id": "b70f4037",
   "metadata": {},
   "outputs": [],
   "source": []
  }
 ],
 "metadata": {
  "kernelspec": {
   "display_name": "Python 3",
   "language": "python",
   "name": "python3"
  },
  "language_info": {
   "codemirror_mode": {
    "name": "ipython",
    "version": 3
   },
   "file_extension": ".py",
   "mimetype": "text/x-python",
   "name": "python",
   "nbconvert_exporter": "python",
   "pygments_lexer": "ipython3",
   "version": "3.8.8"
  }
 },
 "nbformat": 4,
 "nbformat_minor": 5
}
